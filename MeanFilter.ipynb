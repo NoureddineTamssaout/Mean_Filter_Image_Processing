{
 "cells": [
  {
   "cell_type": "markdown",
   "metadata": {},
   "source": [
    "### Code By Noureddine : How to apply a mean filter to a picture"
   ]
  },
  {
   "cell_type": "code",
   "execution_count": 1,
   "metadata": {},
   "outputs": [],
   "source": [
    "import numpy as np\n",
    "import matplotlib.pyplot as plt\n",
    "import random\n",
    "import cv2\n",
    "import math\n",
    "\n",
    "\n",
    "def meanFilter(imageIn, filterSize):\n",
    "    imageOut = np.zeros(imageIn.shape, np.uint8)\n",
    "    result = 0\n",
    "    if filterSize == 9:\n",
    "        for j in range(1, imageIn.shape[0]-1):\n",
    "            for i in range(1, imageIn.shape[1]-1):\n",
    "                for y in range(-1, 2):\n",
    "                    for x in range(-1, 2):\n",
    "                        result = result + imageIn[j+y, i+x]\n",
    "                imageOut[j][i] = int(result / filterSize)\n",
    "                result = 0\n",
    "\n",
    "    elif filterSize == 25:\n",
    "        for j in range(2, imageIn.shape[0]-2):\n",
    "            for i in range(2, imageIn.shape[1]-2):\n",
    "                for y in range(-2, 3):\n",
    "                    for x in range(-2, 3):\n",
    "                        result = result + imageIn[j+y, i+x]\n",
    "                imageOut[j][i] = int(result / filterSize)\n",
    "                result = 0\n",
    "\n",
    "    return imageOut"
   ]
  },
  {
   "cell_type": "code",
   "execution_count": 2,
   "metadata": {},
   "outputs": [
    {
     "name": "stderr",
     "output_type": "stream",
     "text": [
      "C:\\Users\\TRETEC\\AppData\\Local\\Temp\\ipykernel_18988\\3347160476.py:25: RuntimeWarning: overflow encountered in long_scalars\n",
      "  resultat = resultat + imageIn[j+y, i+x]\n"
     ]
    },
    {
     "data": {
      "text/plain": [
       "-1"
      ]
     },
     "execution_count": 2,
     "metadata": {},
     "output_type": "execute_result"
    }
   ],
   "source": [
    "\n",
    "imageIn = cv2.imread(\"android.jpg\", 0)\n",
    "imageOut= meanFilter(imageIn, 25)\n",
    "cv2.imshow(\"Final picture\",imageOut)\n",
    "cv2.waitKey()"
   ]
  }
 ]
